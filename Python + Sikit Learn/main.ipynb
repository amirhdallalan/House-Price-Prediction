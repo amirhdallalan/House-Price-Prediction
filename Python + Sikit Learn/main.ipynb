{
 "cells": [
  {
   "cell_type": "code",
   "execution_count": 1,
   "id": "b38b55dd",
   "metadata": {},
   "outputs": [],
   "source": [
    "import matplotlib.pyplot as plt\n",
    "import pandas as pd\n",
    "import numpy as np\n",
    "from sklearn.model_selection import train_test_split\n",
    "from sklearn import linear_model\n",
    "from scipy import stats"
   ]
  },
  {
   "cell_type": "code",
   "execution_count": 12,
   "id": "4eeb6d9f",
   "metadata": {},
   "outputs": [
    {
     "data": {
      "text/plain": [
       "Area          object\n",
       "Room           int64\n",
       "Parking         bool\n",
       "Warehouse       bool\n",
       "Elevator        bool\n",
       "Address       object\n",
       "Price        float64\n",
       "dtype: object"
      ]
     },
     "execution_count": 12,
     "metadata": {},
     "output_type": "execute_result"
    }
   ],
   "source": [
    "dataset = pd.read_csv(\"HousePrice.csv\")\n",
    "f = ['Area','Room','Parking','Warehouse','Elevator','Address','Price']\n",
    "df = dataset[f].dropna(axis = 0)\n",
    "df.dtypes"
   ]
  },
  {
   "cell_type": "code",
   "execution_count": 13,
   "id": "fe515481",
   "metadata": {},
   "outputs": [
    {
     "data": {
      "text/plain": [
       "True     3450\n",
       "False       6\n",
       "Name: Area, dtype: int64"
      ]
     },
     "execution_count": 13,
     "metadata": {},
     "output_type": "execute_result"
    }
   ],
   "source": [
    "#find number of non numeric value in 'Area'\n",
    "df['Area'].str.isnumeric().value_counts()"
   ]
  },
  {
   "cell_type": "code",
   "execution_count": 14,
   "id": "33e6c454",
   "metadata": {},
   "outputs": [
    {
     "data": {
      "text/plain": [
       "570       3,310,000,000 \n",
       "709      16,160,000,000 \n",
       "807               1,000 \n",
       "1604      8,400,000,000 \n",
       "2171              3,600 \n",
       "2802      2,550,000,000 \n",
       "Name: Area, dtype: object"
      ]
     },
     "execution_count": 14,
     "metadata": {},
     "output_type": "execute_result"
    }
   ],
   "source": [
    "#find non numeric value in 'Area'\n",
    "df['Area'].loc[df['Area'].str.isnumeric() == False]"
   ]
  },
  {
   "cell_type": "code",
   "execution_count": 15,
   "id": "6f748759",
   "metadata": {},
   "outputs": [],
   "source": [
    "#fix problem & convert str to int\n",
    "df['Area'] = df['Area'].str.replace(',', '')\n",
    "df['Area'] = pd.to_numeric(df['Area'], errors = 'coerce')"
   ]
  },
  {
   "cell_type": "code",
   "execution_count": 16,
   "id": "a855ea9c",
   "metadata": {},
   "outputs": [
    {
     "data": {
      "text/html": [
       "<div>\n",
       "<style scoped>\n",
       "    .dataframe tbody tr th:only-of-type {\n",
       "        vertical-align: middle;\n",
       "    }\n",
       "\n",
       "    .dataframe tbody tr th {\n",
       "        vertical-align: top;\n",
       "    }\n",
       "\n",
       "    .dataframe thead th {\n",
       "        text-align: right;\n",
       "    }\n",
       "</style>\n",
       "<table border=\"1\" class=\"dataframe\">\n",
       "  <thead>\n",
       "    <tr style=\"text-align: right;\">\n",
       "      <th></th>\n",
       "      <th>Area</th>\n",
       "      <th>Room</th>\n",
       "      <th>Price</th>\n",
       "    </tr>\n",
       "  </thead>\n",
       "  <tbody>\n",
       "    <tr>\n",
       "      <th>count</th>\n",
       "      <td>3219.000000</td>\n",
       "      <td>3219.000000</td>\n",
       "      <td>3.219000e+03</td>\n",
       "    </tr>\n",
       "    <tr>\n",
       "      <th>mean</th>\n",
       "      <td>93.460702</td>\n",
       "      <td>1.986642</td>\n",
       "      <td>3.941327e+09</td>\n",
       "    </tr>\n",
       "    <tr>\n",
       "      <th>std</th>\n",
       "      <td>34.075665</td>\n",
       "      <td>0.660627</td>\n",
       "      <td>3.916011e+09</td>\n",
       "    </tr>\n",
       "    <tr>\n",
       "      <th>min</th>\n",
       "      <td>30.000000</td>\n",
       "      <td>0.000000</td>\n",
       "      <td>3.600000e+06</td>\n",
       "    </tr>\n",
       "    <tr>\n",
       "      <th>25%</th>\n",
       "      <td>67.000000</td>\n",
       "      <td>2.000000</td>\n",
       "      <td>1.300000e+09</td>\n",
       "    </tr>\n",
       "    <tr>\n",
       "      <th>50%</th>\n",
       "      <td>87.000000</td>\n",
       "      <td>2.000000</td>\n",
       "      <td>2.600000e+09</td>\n",
       "    </tr>\n",
       "    <tr>\n",
       "      <th>75%</th>\n",
       "      <td>113.000000</td>\n",
       "      <td>2.000000</td>\n",
       "      <td>5.100000e+09</td>\n",
       "    </tr>\n",
       "    <tr>\n",
       "      <th>max</th>\n",
       "      <td>198.000000</td>\n",
       "      <td>5.000000</td>\n",
       "      <td>3.349000e+10</td>\n",
       "    </tr>\n",
       "  </tbody>\n",
       "</table>\n",
       "</div>"
      ],
      "text/plain": [
       "              Area         Room         Price\n",
       "count  3219.000000  3219.000000  3.219000e+03\n",
       "mean     93.460702     1.986642  3.941327e+09\n",
       "std      34.075665     0.660627  3.916011e+09\n",
       "min      30.000000     0.000000  3.600000e+06\n",
       "25%      67.000000     2.000000  1.300000e+09\n",
       "50%      87.000000     2.000000  2.600000e+09\n",
       "75%     113.000000     2.000000  5.100000e+09\n",
       "max     198.000000     5.000000  3.349000e+10"
      ]
     },
     "execution_count": 16,
     "metadata": {},
     "output_type": "execute_result"
    }
   ],
   "source": [
    "#drop outlier data\n",
    "q1_df = df['Area'].quantile(0.25)\n",
    "q3_df = df['Area'].quantile(0.75)\n",
    "\n",
    "for i in df.index:\n",
    "    if df.loc[i,'Area'] > (q3_df + 1.5*(q3_df - q1_df)):\n",
    "        df.drop(i, inplace = True)\n",
    "df.describe()"
   ]
  },
  {
   "cell_type": "code",
   "execution_count": 19,
   "id": "cdfcc37b",
   "metadata": {
    "scrolled": true
   },
   "outputs": [
    {
     "data": {
      "text/html": [
       "<div>\n",
       "<style scoped>\n",
       "    .dataframe tbody tr th:only-of-type {\n",
       "        vertical-align: middle;\n",
       "    }\n",
       "\n",
       "    .dataframe tbody tr th {\n",
       "        vertical-align: top;\n",
       "    }\n",
       "\n",
       "    .dataframe thead th {\n",
       "        text-align: right;\n",
       "    }\n",
       "</style>\n",
       "<table border=\"1\" class=\"dataframe\">\n",
       "  <thead>\n",
       "    <tr style=\"text-align: right;\">\n",
       "      <th></th>\n",
       "      <th>Area</th>\n",
       "      <th>Room</th>\n",
       "      <th>Parking</th>\n",
       "      <th>Warehouse</th>\n",
       "      <th>Elevator</th>\n",
       "      <th>Address</th>\n",
       "      <th>Price</th>\n",
       "    </tr>\n",
       "  </thead>\n",
       "  <tbody>\n",
       "    <tr>\n",
       "      <th>0</th>\n",
       "      <td>63</td>\n",
       "      <td>1</td>\n",
       "      <td>1</td>\n",
       "      <td>1</td>\n",
       "      <td>1</td>\n",
       "      <td>1</td>\n",
       "      <td>1.850000e+09</td>\n",
       "    </tr>\n",
       "    <tr>\n",
       "      <th>1</th>\n",
       "      <td>60</td>\n",
       "      <td>1</td>\n",
       "      <td>1</td>\n",
       "      <td>1</td>\n",
       "      <td>1</td>\n",
       "      <td>1</td>\n",
       "      <td>1.850000e+09</td>\n",
       "    </tr>\n",
       "    <tr>\n",
       "      <th>2</th>\n",
       "      <td>79</td>\n",
       "      <td>2</td>\n",
       "      <td>1</td>\n",
       "      <td>1</td>\n",
       "      <td>1</td>\n",
       "      <td>2</td>\n",
       "      <td>5.500000e+08</td>\n",
       "    </tr>\n",
       "    <tr>\n",
       "      <th>3</th>\n",
       "      <td>95</td>\n",
       "      <td>2</td>\n",
       "      <td>1</td>\n",
       "      <td>1</td>\n",
       "      <td>1</td>\n",
       "      <td>3</td>\n",
       "      <td>9.025000e+08</td>\n",
       "    </tr>\n",
       "    <tr>\n",
       "      <th>4</th>\n",
       "      <td>123</td>\n",
       "      <td>2</td>\n",
       "      <td>1</td>\n",
       "      <td>1</td>\n",
       "      <td>1</td>\n",
       "      <td>4</td>\n",
       "      <td>7.000000e+09</td>\n",
       "    </tr>\n",
       "    <tr>\n",
       "      <th>...</th>\n",
       "      <td>...</td>\n",
       "      <td>...</td>\n",
       "      <td>...</td>\n",
       "      <td>...</td>\n",
       "      <td>...</td>\n",
       "      <td>...</td>\n",
       "      <td>...</td>\n",
       "    </tr>\n",
       "    <tr>\n",
       "      <th>3474</th>\n",
       "      <td>86</td>\n",
       "      <td>2</td>\n",
       "      <td>1</td>\n",
       "      <td>1</td>\n",
       "      <td>1</td>\n",
       "      <td>17</td>\n",
       "      <td>3.500000e+09</td>\n",
       "    </tr>\n",
       "    <tr>\n",
       "      <th>3475</th>\n",
       "      <td>83</td>\n",
       "      <td>2</td>\n",
       "      <td>1</td>\n",
       "      <td>1</td>\n",
       "      <td>1</td>\n",
       "      <td>78</td>\n",
       "      <td>6.800000e+09</td>\n",
       "    </tr>\n",
       "    <tr>\n",
       "      <th>3476</th>\n",
       "      <td>75</td>\n",
       "      <td>2</td>\n",
       "      <td>0</td>\n",
       "      <td>0</td>\n",
       "      <td>0</td>\n",
       "      <td>28</td>\n",
       "      <td>3.650000e+08</td>\n",
       "    </tr>\n",
       "    <tr>\n",
       "      <th>3477</th>\n",
       "      <td>105</td>\n",
       "      <td>2</td>\n",
       "      <td>1</td>\n",
       "      <td>1</td>\n",
       "      <td>1</td>\n",
       "      <td>45</td>\n",
       "      <td>5.600000e+09</td>\n",
       "    </tr>\n",
       "    <tr>\n",
       "      <th>3478</th>\n",
       "      <td>82</td>\n",
       "      <td>2</td>\n",
       "      <td>0</td>\n",
       "      <td>1</td>\n",
       "      <td>1</td>\n",
       "      <td>28</td>\n",
       "      <td>3.600000e+08</td>\n",
       "    </tr>\n",
       "  </tbody>\n",
       "</table>\n",
       "<p>3219 rows × 7 columns</p>\n",
       "</div>"
      ],
      "text/plain": [
       "      Area  Room  Parking  Warehouse  Elevator  Address         Price\n",
       "0       63     1        1          1         1        1  1.850000e+09\n",
       "1       60     1        1          1         1        1  1.850000e+09\n",
       "2       79     2        1          1         1        2  5.500000e+08\n",
       "3       95     2        1          1         1        3  9.025000e+08\n",
       "4      123     2        1          1         1        4  7.000000e+09\n",
       "...    ...   ...      ...        ...       ...      ...           ...\n",
       "3474    86     2        1          1         1       17  3.500000e+09\n",
       "3475    83     2        1          1         1       78  6.800000e+09\n",
       "3476    75     2        0          0         0       28  3.650000e+08\n",
       "3477   105     2        1          1         1       45  5.600000e+09\n",
       "3478    82     2        0          1         1       28  3.600000e+08\n",
       "\n",
       "[3219 rows x 7 columns]"
      ]
     },
     "execution_count": 19,
     "metadata": {},
     "output_type": "execute_result"
    }
   ],
   "source": [
    "#convert Address to Address ID\n",
    "AddressID = {}\n",
    "AID = []\n",
    "count = 1\n",
    "for i in df['Address']:\n",
    "    if i not in AddressID:\n",
    "        AddressID[i] = count\n",
    "        count += 1\n",
    "    AID.append(AddressID[i])\n",
    "df['Address'] = AID\n",
    "\n",
    "#convert True/False to 1/0\n",
    "df = df*1\n",
    "\n",
    "df"
   ]
  },
  {
   "cell_type": "code",
   "execution_count": 20,
   "id": "247b0725",
   "metadata": {
    "scrolled": true
   },
   "outputs": [
    {
     "data": {
      "image/png": "[encoded data removed]",
      "text/plain": [
       "<Figure size 432x288 with 9 Axes>"
      ]
     },
     "metadata": {
      "needs_background": "light"
     },
     "output_type": "display_data"
    }
   ],
   "source": [
    "#histogram\n",
    "viz = df[f]\n",
    "viz.hist()\n",
    "plt.show()"
   ]
  },
  {
   "cell_type": "code",
   "execution_count": 21,
   "id": "508d5a72",
   "metadata": {
    "scrolled": false
   },
   "outputs": [
    {
     "data": {
      "image/png": "[encoded data removed]",
      "text/plain": [
       "<Figure size 432x288 with 1 Axes>"
      ]
     },
     "metadata": {
      "needs_background": "light"
     },
     "output_type": "display_data"
    },
    {
     "data": {
      "image/png": "[encoded data removed]",
      "text/plain": [
       "<Figure size 432x288 with 1 Axes>"
      ]
     },
     "metadata": {
      "needs_background": "light"
     },
     "output_type": "display_data"
    },
    {
     "data": {
      "image/png": "[encoded data removed]",
      "text/plain": [
       "<Figure size 432x288 with 1 Axes>"
      ]
     },
     "metadata": {
      "needs_background": "light"
     },
     "output_type": "display_data"
    },
    {
     "data": {
      "image/png": "[encoded data removed]",
      "text/plain": [
       "<Figure size 432x288 with 1 Axes>"
      ]
     },
     "metadata": {
      "needs_background": "light"
     },
     "output_type": "display_data"
    }
   ],
   "source": [
    "#scatter plot\n",
    "plt.scatter(df.Area, df.Price)\n",
    "plt.xlabel('Area')\n",
    "plt.ylabel('Price')\n",
    "plt.show()\n",
    "plt.scatter(df.Room, df.Price)\n",
    "plt.xlabel('Room')\n",
    "plt.ylabel('Price')\n",
    "plt.show()\n",
    "plt.scatter(df.Parking, df.Price)\n",
    "plt.xlabel('Parking')\n",
    "plt.ylabel('Price')\n",
    "plt.show()\n",
    "plt.scatter(df.Elevator, df.Price)\n",
    "plt.xlabel('Elevator')\n",
    "plt.ylabel('Price')\n",
    "plt.show()"
   ]
  },
  {
   "cell_type": "code",
   "execution_count": 22,
   "id": "811d63c3",
   "metadata": {},
   "outputs": [],
   "source": [
    "#normalized dataframe\n",
    "ndf=(df-df.mean())/df.std()"
   ]
  },
  {
   "cell_type": "code",
   "execution_count": 23,
   "id": "ed59b204",
   "metadata": {},
   "outputs": [],
   "source": [
    "#define train / test data\n",
    "X = np.asanyarray(ndf[['Area','Room','Parking','Elevator','Address']])\n",
    "y = np.asanyarray(ndf[f[-1]])\n",
    "X_train, X_test, y_train, y_test = train_test_split(X, y, test_size=0.2, random_state=4)"
   ]
  },
  {
   "cell_type": "code",
   "execution_count": 24,
   "id": "11a6387e",
   "metadata": {},
   "outputs": [
    {
     "name": "stdout",
     "output_type": "stream",
     "text": [
      "Coefficients:  [ 0.781362   -0.11485434  0.0688433   0.02682053  0.07168433]\n"
     ]
    }
   ],
   "source": [
    "#fit x, y\n",
    "regr = linear_model.LinearRegression()\n",
    "regr.fit(X_train, y_train)\n",
    "print ('Coefficients: ', regr.coef_)"
   ]
  },
  {
   "cell_type": "code",
   "execution_count": 25,
   "id": "566d9797",
   "metadata": {},
   "outputs": [
    {
     "name": "stdout",
     "output_type": "stream",
     "text": [
      "Residual sum of squares: 0.52\n",
      "Variance score: 0.54\n"
     ]
    }
   ],
   "source": [
    "#predict y_hat based on X_test\n",
    "y_hat = regr.predict(X_test)\n",
    "print(\"Residual sum of squares: %.2f\" % np.mean((y_hat - y_test) ** 2))\n",
    "print('Variance score: %.2f' % regr.score(X_test, y_test))"
   ]
  }
 ],
 "metadata": {
  "kernelspec": {
   "display_name": "Python 3 (ipykernel)",
   "language": "python",
   "name": "python3"
  },
  "language_info": {
   "codemirror_mode": {
    "name": "ipython",
    "version": 3
   },
   "file_extension": ".py",
   "mimetype": "text/x-python",
   "name": "python",
   "nbconvert_exporter": "python",
   "pygments_lexer": "ipython3",
   "version": "3.9.6"
  }
 },
 "nbformat": 4,
 "nbformat_minor": 5
}
